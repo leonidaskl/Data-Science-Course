{
 "cells": [
  {
   "cell_type": "markdown",
   "id": "5f41b37f-fcf6-4c8e-8776-a76f9979a50d",
   "metadata": {},
   "source": [
    "# Data Science Tools and Ecosystem"
   ]
  },
  {
   "cell_type": "markdown",
   "id": "d106e0f4-e7ca-46cc-a479-65b468575793",
   "metadata": {},
   "source": [
    "In this notebook, Data Science Tools and Ecosystem are summarized.\n"
   ]
  },
  {
   "cell_type": "markdown",
   "id": "9bc91ae3-5d85-4028-b68e-bdf3a00af7dc",
   "metadata": {},
   "source": [
    "**Objectives:**\n",
    "\n",
    "- List popular languages for Data Science.\n",
    "- List popular libraries used by Data Scientists.\n",
    "- List Data Science tools"
   ]
  },
  {
   "cell_type": "markdown",
   "id": "7ae6c4f1-54fc-4df0-a074-19b8e2c7b6c4",
   "metadata": {},
   "source": [
    "Some of the popular languages that Data Scientists use are:\n",
    "\n",
    "\n",
    "1. Python\n",
    "2. R\n",
    "3. SQL"
   ]
  },
  {
   "cell_type": "markdown",
   "id": "19695a18-02a4-4a64-b16f-4a52849f5c7f",
   "metadata": {},
   "source": [
    "Some of the commonly used libraries used by Data Scientists include:\n",
    "\n",
    "1. ggplot2\n",
    "2. Matplot\n",
    "3. Pandas"
   ]
  },
  {
   "cell_type": "markdown",
   "id": "10b1c903-c84b-4aec-b186-1b35b02abc8d",
   "metadata": {},
   "source": [
    "|Data Science Tools|\n",
    "|-----------------------------|\n",
    "|Jupyter Notebook|\n",
    "|RStudio|\n",
    "|VS Code (Visual Studio Code) |"
   ]
  },
  {
   "cell_type": "markdown",
   "id": "6a05512b-e9a9-4deb-8f52-518061a09d92",
   "metadata": {},
   "source": [
    "### Below are a few examples of evaluating arithmetic expressions in Python"
   ]
  },
  {
   "cell_type": "code",
   "execution_count": 14,
   "id": "80dd306d-5dc0-42ac-8803-cf3b5e1363ee",
   "metadata": {},
   "outputs": [
    {
     "data": {
      "text/plain": [
       "17"
      ]
     },
     "execution_count": 14,
     "metadata": {},
     "output_type": "execute_result"
    }
   ],
   "source": [
    "# This a simple arithmetic expression to mutiply then add integers\n",
    "\n",
    "(3*4)+5"
   ]
  },
  {
   "cell_type": "code",
   "execution_count": 16,
   "id": "3397d35e-39a8-4cd2-9e41-709d6438b7ca",
   "metadata": {},
   "outputs": [
    {
     "data": {
      "text/plain": [
       "3.3333333333333335"
      ]
     },
     "execution_count": 16,
     "metadata": {},
     "output_type": "execute_result"
    }
   ],
   "source": [
    "# This will convert 200 minutes to hours by diving by 60\n",
    "\n",
    "200 / 60\n"
   ]
  },
  {
   "cell_type": "markdown",
   "id": "5c8b86e6-f242-4096-8ed9-e7eca6974c25",
   "metadata": {},
   "source": [
    "## Author\n",
    "\n",
    "Leonidas Kolovos"
   ]
  }
 ],
 "metadata": {
  "kernelspec": {
   "display_name": "Python 3 (ipykernel)",
   "language": "python",
   "name": "python3"
  },
  "language_info": {
   "codemirror_mode": {
    "name": "ipython",
    "version": 3
   },
   "file_extension": ".py",
   "mimetype": "text/x-python",
   "name": "python",
   "nbconvert_exporter": "python",
   "pygments_lexer": "ipython3",
   "version": "3.11.7"
  }
 },
 "nbformat": 4,
 "nbformat_minor": 5
}
